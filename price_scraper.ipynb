{
 "cells": [
  {
   "cell_type": "code",
   "execution_count": 240,
   "metadata": {
    "scrolled": true
   },
   "outputs": [],
   "source": [
    "from urllib.request import urlopen\n",
    "from bs4 import BeautifulSoup\n",
    "import requests\n",
    "import pandas as pd\n",
    "import numpy as np\n",
    "from datascience import *"
   ]
  },
  {
   "cell_type": "code",
   "execution_count": 233,
   "metadata": {},
   "outputs": [],
   "source": [
    "items = ['headphone', 'designer', 'makeup', 'coin', 'jersey', \n",
    "         'computer', 'laptop', 'purse', 'watch', 'movie', \n",
    "         'shoe', 'jewelry', 'wallet', 'smartphone', 'wine']"
   ]
  },
  {
   "cell_type": "code",
   "execution_count": 234,
   "metadata": {},
   "outputs": [],
   "source": [
    "base_url = 'https://www.ebay.com/sch/i.html?_from=R40&_nkw={item}&_sacat=0&_pgn={number}'"
   ]
  },
  {
   "cell_type": "code",
   "execution_count": null,
   "metadata": {},
   "outputs": [],
   "source": [
    "def scrape(url, item):\n",
    "    prices = []\n",
    "    for i in range(1, 6):\n",
    "        item_url = base_url.format(item=item, number=i)\n",
    "        res = requests.get(item_url)\n",
    "        parser = str(res.content.decode('utf-8'))\n",
    "        while len(parser):\n",
    "            ind = parser.find('item__price', 0, len(parser))\n",
    "            val = parser[ind+14:ind+20]\n",
    "            try:\n",
    "                int(val[0])\n",
    "                splitter = val.split('<')\n",
    "                val = splitter[0]\n",
    "                floatVal = float(val)\n",
    "                if (val[-3] == '.'):\n",
    "                    prices.append(float(val))\n",
    "            except:\n",
    "                pass\n",
    "            parser = parser[ind+20:len(parser)]\n",
    "    return prices"
   ]
  },
  {
   "cell_type": "code",
   "execution_count": 235,
   "metadata": {},
   "outputs": [],
   "source": [
    "item_dfs = []\n",
    "\n",
    "for i in range(len(items)):\n",
    "    price_data[i].extend(scrape(base_url, items[i]))\n",
    "    var = pd.DataFrame(price_data[i])\n",
    "    var.to_csv(items[i]+'.csv')"
   ]
  }
 ],
 "metadata": {
  "kernelspec": {
   "display_name": "Python 3",
   "language": "python",
   "name": "python3"
  },
  "language_info": {
   "codemirror_mode": {
    "name": "ipython",
    "version": 3
   },
   "file_extension": ".py",
   "mimetype": "text/x-python",
   "name": "python",
   "nbconvert_exporter": "python",
   "pygments_lexer": "ipython3",
   "version": "3.6.8"
  }
 },
 "nbformat": 4,
 "nbformat_minor": 2
}
